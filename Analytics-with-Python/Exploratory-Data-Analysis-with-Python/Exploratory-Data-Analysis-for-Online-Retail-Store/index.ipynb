{
 "cells": [
  {
   "attachments": {},
   "cell_type": "markdown",
   "metadata": {},
   "source": [
    "# Exploratory Data Analysis for an Online Retail Data"
   ]
  },
  {
   "attachments": {},
   "cell_type": "markdown",
   "metadata": {},
   "source": [
    "## Step 1: Importing necessary Libraries"
   ]
  },
  {
   "cell_type": "code",
   "execution_count": 1,
   "metadata": {},
   "outputs": [],
   "source": [
    "# import pytho modules for analysis\n",
    "import pandas as pd\n",
    "import numpy as np\n",
    "import seaborn as sns\n",
    "import matplotlib.pyplot as plt\n",
    "import datetime as dt"
   ]
  },
  {
   "attachments": {},
   "cell_type": "markdown",
   "metadata": {},
   "source": [
    "## Step 2: Loading the Dataset.\n",
    "* We use the [online_retail_data_without_null_values.csv](https://raw.githubusercontent.com/nyangweso-rodgers/Data_Analytics/main/Analytics-with-Python/Python-Modules-for-Data-Analysis/Pandas-Module/How-to-Handle-Missing-Data-in-Pandas-DataFrame/online_retail_data_without_null_values.csv) dataset which was generated after removing raws with Null values from [Online Retail Store](https://raw.githubusercontent.com/nyangweso-rodgers/Data_Analytics/main/Datasets/Online_Retail.csv) dataset."
   ]
  },
  {
   "cell_type": "code",
   "execution_count": 2,
   "metadata": {},
   "outputs": [
    {
     "data": {
      "text/plain": [
       "(397924, 8)"
      ]
     },
     "execution_count": 2,
     "metadata": {},
     "output_type": "execute_result"
    }
   ],
   "source": [
    "url = \"https://raw.githubusercontent.com/nyangweso-rodgers/Data_Analytics/main/Analytics-with-Python/Python-Modules-for-Data-Analysis/Pandas-Module/How-to-Filter-Pandas-DataFrame/online_retail_data_without_negative_qty_values.csv\"\n",
    "online_retail_data = pd.read_csv(url, encoding= 'unicode_escape', parse_dates=['InvoiceDate'])\n",
    "\n",
    "# check shape of the data\n",
    "online_retail_data.shape"
   ]
  },
  {
   "attachments": {},
   "cell_type": "markdown",
   "metadata": {},
   "source": [
    "## Step 3: Viewing the dataset."
   ]
  },
  {
   "attachments": {},
   "cell_type": "markdown",
   "metadata": {},
   "source": [
    "Previewing the Dataset"
   ]
  },
  {
   "cell_type": "code",
   "execution_count": 3,
   "metadata": {},
   "outputs": [
    {
     "data": {
      "text/html": [
       "<div>\n",
       "<style scoped>\n",
       "    .dataframe tbody tr th:only-of-type {\n",
       "        vertical-align: middle;\n",
       "    }\n",
       "\n",
       "    .dataframe tbody tr th {\n",
       "        vertical-align: top;\n",
       "    }\n",
       "\n",
       "    .dataframe thead th {\n",
       "        text-align: right;\n",
       "    }\n",
       "</style>\n",
       "<table border=\"1\" class=\"dataframe\">\n",
       "  <thead>\n",
       "    <tr style=\"text-align: right;\">\n",
       "      <th></th>\n",
       "      <th>InvoiceNo</th>\n",
       "      <th>StockCode</th>\n",
       "      <th>Description</th>\n",
       "      <th>Quantity</th>\n",
       "      <th>InvoiceDate</th>\n",
       "      <th>UnitPrice</th>\n",
       "      <th>CustomerID</th>\n",
       "      <th>Country</th>\n",
       "    </tr>\n",
       "  </thead>\n",
       "  <tbody>\n",
       "    <tr>\n",
       "      <th>0</th>\n",
       "      <td>536365</td>\n",
       "      <td>85123A</td>\n",
       "      <td>WHITE HANGING HEART T-LIGHT HOLDER</td>\n",
       "      <td>6</td>\n",
       "      <td>2010-12-01 08:26:00</td>\n",
       "      <td>2.55</td>\n",
       "      <td>17850.0</td>\n",
       "      <td>United Kingdom</td>\n",
       "    </tr>\n",
       "    <tr>\n",
       "      <th>1</th>\n",
       "      <td>536365</td>\n",
       "      <td>71053</td>\n",
       "      <td>WHITE METAL LANTERN</td>\n",
       "      <td>6</td>\n",
       "      <td>2010-12-01 08:26:00</td>\n",
       "      <td>3.39</td>\n",
       "      <td>17850.0</td>\n",
       "      <td>United Kingdom</td>\n",
       "    </tr>\n",
       "    <tr>\n",
       "      <th>2</th>\n",
       "      <td>536365</td>\n",
       "      <td>84406B</td>\n",
       "      <td>CREAM CUPID HEARTS COAT HANGER</td>\n",
       "      <td>8</td>\n",
       "      <td>2010-12-01 08:26:00</td>\n",
       "      <td>2.75</td>\n",
       "      <td>17850.0</td>\n",
       "      <td>United Kingdom</td>\n",
       "    </tr>\n",
       "    <tr>\n",
       "      <th>3</th>\n",
       "      <td>536365</td>\n",
       "      <td>84029G</td>\n",
       "      <td>KNITTED UNION FLAG HOT WATER BOTTLE</td>\n",
       "      <td>6</td>\n",
       "      <td>2010-12-01 08:26:00</td>\n",
       "      <td>3.39</td>\n",
       "      <td>17850.0</td>\n",
       "      <td>United Kingdom</td>\n",
       "    </tr>\n",
       "    <tr>\n",
       "      <th>4</th>\n",
       "      <td>536365</td>\n",
       "      <td>84029E</td>\n",
       "      <td>RED WOOLLY HOTTIE WHITE HEART.</td>\n",
       "      <td>6</td>\n",
       "      <td>2010-12-01 08:26:00</td>\n",
       "      <td>3.39</td>\n",
       "      <td>17850.0</td>\n",
       "      <td>United Kingdom</td>\n",
       "    </tr>\n",
       "  </tbody>\n",
       "</table>\n",
       "</div>"
      ],
      "text/plain": [
       "   InvoiceNo StockCode                          Description  Quantity  \\\n",
       "0     536365    85123A   WHITE HANGING HEART T-LIGHT HOLDER         6   \n",
       "1     536365     71053                  WHITE METAL LANTERN         6   \n",
       "2     536365    84406B       CREAM CUPID HEARTS COAT HANGER         8   \n",
       "3     536365    84029G  KNITTED UNION FLAG HOT WATER BOTTLE         6   \n",
       "4     536365    84029E       RED WOOLLY HOTTIE WHITE HEART.         6   \n",
       "\n",
       "          InvoiceDate  UnitPrice  CustomerID         Country  \n",
       "0 2010-12-01 08:26:00       2.55     17850.0  United Kingdom  \n",
       "1 2010-12-01 08:26:00       3.39     17850.0  United Kingdom  \n",
       "2 2010-12-01 08:26:00       2.75     17850.0  United Kingdom  \n",
       "3 2010-12-01 08:26:00       3.39     17850.0  United Kingdom  \n",
       "4 2010-12-01 08:26:00       3.39     17850.0  United Kingdom  "
      ]
     },
     "execution_count": 3,
     "metadata": {},
     "output_type": "execute_result"
    }
   ],
   "source": [
    "online_retail_data.head()"
   ]
  },
  {
   "attachments": {},
   "cell_type": "markdown",
   "metadata": {},
   "source": [
    "## Additional Columns\n",
    "* Add some extra columns from the preview above.\n",
    "  \n",
    "  1. Add __TotalAmount = Quantity * UnitPrice__\n",
    "  2. Add __Date__ extracted from __InvoiceDate__ datetime column\n",
    "  3. Add __MonthYear__ extracted from __InvoiceDate__ datetime column"
   ]
  },
  {
   "cell_type": "code",
   "execution_count": 6,
   "metadata": {},
   "outputs": [],
   "source": [
    "# add TotalAmount Column\n",
    "online_retail_data['TotalAmount'] = online_retail_data['Quantity'] * online_retail_data['UnitPrice']\n",
    "\n",
    "# add Date Column\n",
    "online_retail_data['Date'] = online_retail_data['InvoiceDate'].dt.date\n",
    "\n",
    "# add MonthYear Column\n",
    "online_retail_data['MonthYear'] = online_retail_data['InvoiceDate'].dt.to_period('M')\n",
    "\n",
    "# add Week Start's Date - week starts on Monday\n",
    "online_retail_data['Week'] = online_retail_data['InvoiceDate'].dt.to_period('W').dt.start_time"
   ]
  },
  {
   "cell_type": "code",
   "execution_count": 7,
   "metadata": {},
   "outputs": [
    {
     "data": {
      "text/html": [
       "<div>\n",
       "<style scoped>\n",
       "    .dataframe tbody tr th:only-of-type {\n",
       "        vertical-align: middle;\n",
       "    }\n",
       "\n",
       "    .dataframe tbody tr th {\n",
       "        vertical-align: top;\n",
       "    }\n",
       "\n",
       "    .dataframe thead th {\n",
       "        text-align: right;\n",
       "    }\n",
       "</style>\n",
       "<table border=\"1\" class=\"dataframe\">\n",
       "  <thead>\n",
       "    <tr style=\"text-align: right;\">\n",
       "      <th></th>\n",
       "      <th>InvoiceNo</th>\n",
       "      <th>StockCode</th>\n",
       "      <th>Description</th>\n",
       "      <th>Quantity</th>\n",
       "      <th>InvoiceDate</th>\n",
       "      <th>UnitPrice</th>\n",
       "      <th>CustomerID</th>\n",
       "      <th>Country</th>\n",
       "      <th>TotalAmount</th>\n",
       "      <th>Date</th>\n",
       "      <th>MonthYear</th>\n",
       "      <th>Week</th>\n",
       "    </tr>\n",
       "  </thead>\n",
       "  <tbody>\n",
       "    <tr>\n",
       "      <th>0</th>\n",
       "      <td>536365</td>\n",
       "      <td>85123A</td>\n",
       "      <td>WHITE HANGING HEART T-LIGHT HOLDER</td>\n",
       "      <td>6</td>\n",
       "      <td>2010-12-01 08:26:00</td>\n",
       "      <td>2.55</td>\n",
       "      <td>17850.0</td>\n",
       "      <td>United Kingdom</td>\n",
       "      <td>15.30</td>\n",
       "      <td>2010-12-01</td>\n",
       "      <td>2010-12</td>\n",
       "      <td>2010-11-29</td>\n",
       "    </tr>\n",
       "    <tr>\n",
       "      <th>1</th>\n",
       "      <td>536365</td>\n",
       "      <td>71053</td>\n",
       "      <td>WHITE METAL LANTERN</td>\n",
       "      <td>6</td>\n",
       "      <td>2010-12-01 08:26:00</td>\n",
       "      <td>3.39</td>\n",
       "      <td>17850.0</td>\n",
       "      <td>United Kingdom</td>\n",
       "      <td>20.34</td>\n",
       "      <td>2010-12-01</td>\n",
       "      <td>2010-12</td>\n",
       "      <td>2010-11-29</td>\n",
       "    </tr>\n",
       "    <tr>\n",
       "      <th>2</th>\n",
       "      <td>536365</td>\n",
       "      <td>84406B</td>\n",
       "      <td>CREAM CUPID HEARTS COAT HANGER</td>\n",
       "      <td>8</td>\n",
       "      <td>2010-12-01 08:26:00</td>\n",
       "      <td>2.75</td>\n",
       "      <td>17850.0</td>\n",
       "      <td>United Kingdom</td>\n",
       "      <td>22.00</td>\n",
       "      <td>2010-12-01</td>\n",
       "      <td>2010-12</td>\n",
       "      <td>2010-11-29</td>\n",
       "    </tr>\n",
       "  </tbody>\n",
       "</table>\n",
       "</div>"
      ],
      "text/plain": [
       "   InvoiceNo StockCode                         Description  Quantity  \\\n",
       "0     536365    85123A  WHITE HANGING HEART T-LIGHT HOLDER         6   \n",
       "1     536365     71053                 WHITE METAL LANTERN         6   \n",
       "2     536365    84406B      CREAM CUPID HEARTS COAT HANGER         8   \n",
       "\n",
       "          InvoiceDate  UnitPrice  CustomerID         Country  TotalAmount  \\\n",
       "0 2010-12-01 08:26:00       2.55     17850.0  United Kingdom        15.30   \n",
       "1 2010-12-01 08:26:00       3.39     17850.0  United Kingdom        20.34   \n",
       "2 2010-12-01 08:26:00       2.75     17850.0  United Kingdom        22.00   \n",
       "\n",
       "         Date MonthYear       Week  \n",
       "0  2010-12-01   2010-12 2010-11-29  \n",
       "1  2010-12-01   2010-12 2010-11-29  \n",
       "2  2010-12-01   2010-12 2010-11-29  "
      ]
     },
     "execution_count": 7,
     "metadata": {},
     "output_type": "execute_result"
    }
   ],
   "source": [
    "online_retail_data.head(3)"
   ]
  },
  {
   "attachments": {},
   "cell_type": "markdown",
   "metadata": {},
   "source": [
    "#### Getting Columns names"
   ]
  },
  {
   "cell_type": "code",
   "execution_count": 8,
   "metadata": {},
   "outputs": [
    {
     "data": {
      "text/plain": [
       "Index(['InvoiceNo', 'StockCode', 'Description', 'Quantity', 'InvoiceDate',\n",
       "       'UnitPrice', 'CustomerID', 'Country', 'TotalAmount', 'Date',\n",
       "       'MonthYear', 'Week'],\n",
       "      dtype='object')"
      ]
     },
     "execution_count": 8,
     "metadata": {},
     "output_type": "execute_result"
    }
   ],
   "source": [
    "online_retail_data.columns"
   ]
  },
  {
   "attachments": {},
   "cell_type": "markdown",
   "metadata": {},
   "source": [
    "#### Getting Concise info of dataset"
   ]
  },
  {
   "cell_type": "code",
   "execution_count": 9,
   "metadata": {},
   "outputs": [
    {
     "name": "stdout",
     "output_type": "stream",
     "text": [
      "<class 'pandas.core.frame.DataFrame'>\n",
      "RangeIndex: 397924 entries, 0 to 397923\n",
      "Data columns (total 12 columns):\n",
      " #   Column       Non-Null Count   Dtype         \n",
      "---  ------       --------------   -----         \n",
      " 0   InvoiceNo    397924 non-null  int64         \n",
      " 1   StockCode    397924 non-null  object        \n",
      " 2   Description  397924 non-null  object        \n",
      " 3   Quantity     397924 non-null  int64         \n",
      " 4   InvoiceDate  397924 non-null  datetime64[ns]\n",
      " 5   UnitPrice    397924 non-null  float64       \n",
      " 6   CustomerID   397924 non-null  float64       \n",
      " 7   Country      397924 non-null  object        \n",
      " 8   TotalAmount  397924 non-null  float64       \n",
      " 9   Date         397924 non-null  object        \n",
      " 10  MonthYear    397924 non-null  period[M]     \n",
      " 11  Week         397924 non-null  datetime64[ns]\n",
      "dtypes: datetime64[ns](2), float64(3), int64(2), object(4), period[M](1)\n",
      "memory usage: 36.4+ MB\n"
     ]
    }
   ],
   "source": [
    "# Basic Information about the data\n",
    "online_retail_data.info()"
   ]
  },
  {
   "attachments": {},
   "cell_type": "markdown",
   "metadata": {},
   "source": [
    "#### Check the columns Data Types"
   ]
  },
  {
   "cell_type": "code",
   "execution_count": 10,
   "metadata": {},
   "outputs": [
    {
     "data": {
      "text/plain": [
       "InvoiceNo               int64\n",
       "StockCode              object\n",
       "Description            object\n",
       "Quantity                int64\n",
       "InvoiceDate    datetime64[ns]\n",
       "UnitPrice             float64\n",
       "CustomerID            float64\n",
       "Country                object\n",
       "TotalAmount           float64\n",
       "Date                   object\n",
       "MonthYear           period[M]\n",
       "Week           datetime64[ns]\n",
       "dtype: object"
      ]
     },
     "execution_count": 10,
     "metadata": {},
     "output_type": "execute_result"
    }
   ],
   "source": [
    "online_retail_data.dtypes"
   ]
  },
  {
   "attachments": {},
   "cell_type": "markdown",
   "metadata": {},
   "source": [
    "### Change the CustomerID column from float64 to object"
   ]
  },
  {
   "cell_type": "code",
   "execution_count": 11,
   "metadata": {},
   "outputs": [],
   "source": [
    "## using dictionary to convert specific columns\n",
    "convert_dic = {\n",
    "    'CustomerID': str\n",
    "}\n",
    "online_retail_data = online_retail_data.astype(convert_dic)"
   ]
  },
  {
   "attachments": {},
   "cell_type": "markdown",
   "metadata": {},
   "source": [
    "#### Getting the Descriptive statistics."
   ]
  },
  {
   "cell_type": "code",
   "execution_count": 12,
   "metadata": {},
   "outputs": [
    {
     "data": {
      "text/html": [
       "<div>\n",
       "<style scoped>\n",
       "    .dataframe tbody tr th:only-of-type {\n",
       "        vertical-align: middle;\n",
       "    }\n",
       "\n",
       "    .dataframe tbody tr th {\n",
       "        vertical-align: top;\n",
       "    }\n",
       "\n",
       "    .dataframe thead th {\n",
       "        text-align: right;\n",
       "    }\n",
       "</style>\n",
       "<table border=\"1\" class=\"dataframe\">\n",
       "  <thead>\n",
       "    <tr style=\"text-align: right;\">\n",
       "      <th></th>\n",
       "      <th>InvoiceNo</th>\n",
       "      <th>StockCode</th>\n",
       "      <th>Description</th>\n",
       "      <th>Quantity</th>\n",
       "      <th>InvoiceDate</th>\n",
       "      <th>UnitPrice</th>\n",
       "      <th>CustomerID</th>\n",
       "      <th>Country</th>\n",
       "      <th>TotalAmount</th>\n",
       "      <th>Date</th>\n",
       "      <th>MonthYear</th>\n",
       "      <th>Week</th>\n",
       "    </tr>\n",
       "  </thead>\n",
       "  <tbody>\n",
       "    <tr>\n",
       "      <th>count</th>\n",
       "      <td>397924.000000</td>\n",
       "      <td>397924</td>\n",
       "      <td>397924</td>\n",
       "      <td>397924.000000</td>\n",
       "      <td>397924</td>\n",
       "      <td>397924.000000</td>\n",
       "      <td>397924</td>\n",
       "      <td>397924</td>\n",
       "      <td>397924.000000</td>\n",
       "      <td>397924</td>\n",
       "      <td>397924</td>\n",
       "      <td>397924</td>\n",
       "    </tr>\n",
       "    <tr>\n",
       "      <th>unique</th>\n",
       "      <td>NaN</td>\n",
       "      <td>3665</td>\n",
       "      <td>3877</td>\n",
       "      <td>NaN</td>\n",
       "      <td>NaN</td>\n",
       "      <td>NaN</td>\n",
       "      <td>4339</td>\n",
       "      <td>37</td>\n",
       "      <td>NaN</td>\n",
       "      <td>305</td>\n",
       "      <td>13</td>\n",
       "      <td>NaN</td>\n",
       "    </tr>\n",
       "    <tr>\n",
       "      <th>top</th>\n",
       "      <td>NaN</td>\n",
       "      <td>85123A</td>\n",
       "      <td>WHITE HANGING HEART T-LIGHT HOLDER</td>\n",
       "      <td>NaN</td>\n",
       "      <td>NaN</td>\n",
       "      <td>NaN</td>\n",
       "      <td>17841.0</td>\n",
       "      <td>United Kingdom</td>\n",
       "      <td>NaN</td>\n",
       "      <td>2011-11-06</td>\n",
       "      <td>2011-11</td>\n",
       "      <td>NaN</td>\n",
       "    </tr>\n",
       "    <tr>\n",
       "      <th>freq</th>\n",
       "      <td>NaN</td>\n",
       "      <td>2035</td>\n",
       "      <td>2028</td>\n",
       "      <td>NaN</td>\n",
       "      <td>NaN</td>\n",
       "      <td>NaN</td>\n",
       "      <td>7847</td>\n",
       "      <td>354345</td>\n",
       "      <td>NaN</td>\n",
       "      <td>3423</td>\n",
       "      <td>64545</td>\n",
       "      <td>NaN</td>\n",
       "    </tr>\n",
       "    <tr>\n",
       "      <th>mean</th>\n",
       "      <td>560617.126645</td>\n",
       "      <td>NaN</td>\n",
       "      <td>NaN</td>\n",
       "      <td>13.021823</td>\n",
       "      <td>2011-07-10 23:43:36.912475648</td>\n",
       "      <td>3.116174</td>\n",
       "      <td>NaN</td>\n",
       "      <td>NaN</td>\n",
       "      <td>22.394749</td>\n",
       "      <td>NaN</td>\n",
       "      <td>NaN</td>\n",
       "      <td>2011-07-07 19:44:33.230064384</td>\n",
       "    </tr>\n",
       "    <tr>\n",
       "      <th>min</th>\n",
       "      <td>536365.000000</td>\n",
       "      <td>NaN</td>\n",
       "      <td>NaN</td>\n",
       "      <td>1.000000</td>\n",
       "      <td>2010-12-01 08:26:00</td>\n",
       "      <td>0.000000</td>\n",
       "      <td>NaN</td>\n",
       "      <td>NaN</td>\n",
       "      <td>0.000000</td>\n",
       "      <td>NaN</td>\n",
       "      <td>NaN</td>\n",
       "      <td>2010-11-29 00:00:00</td>\n",
       "    </tr>\n",
       "    <tr>\n",
       "      <th>25%</th>\n",
       "      <td>549234.000000</td>\n",
       "      <td>NaN</td>\n",
       "      <td>NaN</td>\n",
       "      <td>2.000000</td>\n",
       "      <td>2011-04-07 11:12:00</td>\n",
       "      <td>1.250000</td>\n",
       "      <td>NaN</td>\n",
       "      <td>NaN</td>\n",
       "      <td>4.680000</td>\n",
       "      <td>NaN</td>\n",
       "      <td>NaN</td>\n",
       "      <td>2011-04-04 00:00:00</td>\n",
       "    </tr>\n",
       "    <tr>\n",
       "      <th>50%</th>\n",
       "      <td>561893.000000</td>\n",
       "      <td>NaN</td>\n",
       "      <td>NaN</td>\n",
       "      <td>6.000000</td>\n",
       "      <td>2011-07-31 14:39:00</td>\n",
       "      <td>1.950000</td>\n",
       "      <td>NaN</td>\n",
       "      <td>NaN</td>\n",
       "      <td>11.800000</td>\n",
       "      <td>NaN</td>\n",
       "      <td>NaN</td>\n",
       "      <td>2011-07-25 00:00:00</td>\n",
       "    </tr>\n",
       "    <tr>\n",
       "      <th>75%</th>\n",
       "      <td>572090.000000</td>\n",
       "      <td>NaN</td>\n",
       "      <td>NaN</td>\n",
       "      <td>12.000000</td>\n",
       "      <td>2011-10-20 14:33:00</td>\n",
       "      <td>3.750000</td>\n",
       "      <td>NaN</td>\n",
       "      <td>NaN</td>\n",
       "      <td>19.800000</td>\n",
       "      <td>NaN</td>\n",
       "      <td>NaN</td>\n",
       "      <td>2011-10-17 00:00:00</td>\n",
       "    </tr>\n",
       "    <tr>\n",
       "      <th>max</th>\n",
       "      <td>581587.000000</td>\n",
       "      <td>NaN</td>\n",
       "      <td>NaN</td>\n",
       "      <td>80995.000000</td>\n",
       "      <td>2011-12-09 12:50:00</td>\n",
       "      <td>8142.750000</td>\n",
       "      <td>NaN</td>\n",
       "      <td>NaN</td>\n",
       "      <td>168469.600000</td>\n",
       "      <td>NaN</td>\n",
       "      <td>NaN</td>\n",
       "      <td>2011-12-05 00:00:00</td>\n",
       "    </tr>\n",
       "    <tr>\n",
       "      <th>std</th>\n",
       "      <td>13106.167695</td>\n",
       "      <td>NaN</td>\n",
       "      <td>NaN</td>\n",
       "      <td>180.420210</td>\n",
       "      <td>NaN</td>\n",
       "      <td>22.096788</td>\n",
       "      <td>NaN</td>\n",
       "      <td>NaN</td>\n",
       "      <td>309.055588</td>\n",
       "      <td>NaN</td>\n",
       "      <td>NaN</td>\n",
       "      <td>NaN</td>\n",
       "    </tr>\n",
       "  </tbody>\n",
       "</table>\n",
       "</div>"
      ],
      "text/plain": [
       "            InvoiceNo StockCode                         Description  \\\n",
       "count   397924.000000    397924                              397924   \n",
       "unique            NaN      3665                                3877   \n",
       "top               NaN    85123A  WHITE HANGING HEART T-LIGHT HOLDER   \n",
       "freq              NaN      2035                                2028   \n",
       "mean    560617.126645       NaN                                 NaN   \n",
       "min     536365.000000       NaN                                 NaN   \n",
       "25%     549234.000000       NaN                                 NaN   \n",
       "50%     561893.000000       NaN                                 NaN   \n",
       "75%     572090.000000       NaN                                 NaN   \n",
       "max     581587.000000       NaN                                 NaN   \n",
       "std      13106.167695       NaN                                 NaN   \n",
       "\n",
       "             Quantity                    InvoiceDate      UnitPrice  \\\n",
       "count   397924.000000                         397924  397924.000000   \n",
       "unique            NaN                            NaN            NaN   \n",
       "top               NaN                            NaN            NaN   \n",
       "freq              NaN                            NaN            NaN   \n",
       "mean        13.021823  2011-07-10 23:43:36.912475648       3.116174   \n",
       "min          1.000000            2010-12-01 08:26:00       0.000000   \n",
       "25%          2.000000            2011-04-07 11:12:00       1.250000   \n",
       "50%          6.000000            2011-07-31 14:39:00       1.950000   \n",
       "75%         12.000000            2011-10-20 14:33:00       3.750000   \n",
       "max      80995.000000            2011-12-09 12:50:00    8142.750000   \n",
       "std        180.420210                            NaN      22.096788   \n",
       "\n",
       "       CustomerID         Country    TotalAmount        Date MonthYear  \\\n",
       "count      397924          397924  397924.000000      397924    397924   \n",
       "unique       4339              37            NaN         305        13   \n",
       "top       17841.0  United Kingdom            NaN  2011-11-06   2011-11   \n",
       "freq         7847          354345            NaN        3423     64545   \n",
       "mean          NaN             NaN      22.394749         NaN       NaN   \n",
       "min           NaN             NaN       0.000000         NaN       NaN   \n",
       "25%           NaN             NaN       4.680000         NaN       NaN   \n",
       "50%           NaN             NaN      11.800000         NaN       NaN   \n",
       "75%           NaN             NaN      19.800000         NaN       NaN   \n",
       "max           NaN             NaN  168469.600000         NaN       NaN   \n",
       "std           NaN             NaN     309.055588         NaN       NaN   \n",
       "\n",
       "                                 Week  \n",
       "count                          397924  \n",
       "unique                            NaN  \n",
       "top                               NaN  \n",
       "freq                              NaN  \n",
       "mean    2011-07-07 19:44:33.230064384  \n",
       "min               2010-11-29 00:00:00  \n",
       "25%               2011-04-04 00:00:00  \n",
       "50%               2011-07-25 00:00:00  \n",
       "75%               2011-10-17 00:00:00  \n",
       "max               2011-12-05 00:00:00  \n",
       "std                               NaN  "
      ]
     },
     "execution_count": 12,
     "metadata": {},
     "output_type": "execute_result"
    }
   ],
   "source": [
    "# Describe the data - descriptive statistics\n",
    "online_retail_data.describe(include='all', datetime_is_numeric=True)\n",
    "# Specifying datetime_is_numeric=True adopts the future behavior of Treating datetime data as categorical rather than numeric in `.describe"
   ]
  },
  {
   "attachments": {},
   "cell_type": "markdown",
   "metadata": {},
   "source": [
    "### Insights\n",
    "1. There are 397,924 Item Level transactions in the dataset\n",
    "2. 4,339 Unique Customers Invoiced.\n",
    "3. 37 Countries"
   ]
  },
  {
   "attachments": {},
   "cell_type": "markdown",
   "metadata": {},
   "source": [
    "#### Checking Duplicates\n",
    "* The pandas.DataFrame.duplicated.sum() function returns a Series or DataFrame containing the sum of the boolean values (True or False) in the duplicate rows of the DataFrame."
   ]
  },
  {
   "cell_type": "code",
   "execution_count": 13,
   "metadata": {},
   "outputs": [
    {
     "data": {
      "text/plain": [
       "5192"
      ]
     },
     "execution_count": 13,
     "metadata": {},
     "output_type": "execute_result"
    }
   ],
   "source": [
    "online_retail_data.duplicated().sum()"
   ]
  },
  {
   "attachments": {},
   "cell_type": "markdown",
   "metadata": {},
   "source": [
    "### Checking Unique Values"
   ]
  },
  {
   "cell_type": "code",
   "execution_count": 14,
   "metadata": {},
   "outputs": [
    {
     "name": "stdout",
     "output_type": "stream",
     "text": [
      "37\n"
     ]
    },
    {
     "data": {
      "text/plain": [
       "array(['United Kingdom', 'France', 'Australia', 'Netherlands', 'Germany',\n",
       "       'Norway', 'EIRE', 'Switzerland', 'Spain', 'Poland', 'Portugal',\n",
       "       'Italy', 'Belgium', 'Lithuania', 'Japan', 'Iceland',\n",
       "       'Channel Islands', 'Denmark', 'Cyprus', 'Sweden', 'Finland',\n",
       "       'Austria', 'Greece', 'Singapore', 'Lebanon',\n",
       "       'United Arab Emirates', 'Israel', 'Saudi Arabia', 'Czech Republic',\n",
       "       'Canada', 'Unspecified', 'Brazil', 'USA', 'European Community',\n",
       "       'Bahrain', 'Malta', 'RSA'], dtype=object)"
      ]
     },
     "execution_count": 14,
     "metadata": {},
     "output_type": "execute_result"
    }
   ],
   "source": [
    "# unique values of Country\n",
    "print(online_retail_data['Country'].nunique())\n",
    "online_retail_data['Country'].unique()"
   ]
  },
  {
   "attachments": {},
   "cell_type": "markdown",
   "metadata": {},
   "source": [
    "## Grouping the DataFrame & Visualization\n",
    "* We group the dataframe and generate the following visuals:\n",
    "  * Boxplot to show any outliers for the numerical values"
   ]
  },
  {
   "attachments": {},
   "cell_type": "markdown",
   "metadata": {},
   "source": [
    "#### Grouping Data 1: Group By CustomerID By Day\n",
    "* We use the output of this GropuBy to calculate:\n",
    "  * Monthly Cohort Retention\n",
    "  * Weekly Cohort Retention\n",
    "  * RFM Analysis, and\n",
    "  * Customer Segmentation using K-Means Clustering"
   ]
  },
  {
   "cell_type": "code",
   "execution_count": 24,
   "metadata": {},
   "outputs": [
    {
     "data": {
      "text/html": [
       "<div>\n",
       "<style scoped>\n",
       "    .dataframe tbody tr th:only-of-type {\n",
       "        vertical-align: middle;\n",
       "    }\n",
       "\n",
       "    .dataframe tbody tr th {\n",
       "        vertical-align: top;\n",
       "    }\n",
       "\n",
       "    .dataframe thead th {\n",
       "        text-align: right;\n",
       "    }\n",
       "</style>\n",
       "<table border=\"1\" class=\"dataframe\">\n",
       "  <thead>\n",
       "    <tr style=\"text-align: right;\">\n",
       "      <th></th>\n",
       "      <th>CustomerID</th>\n",
       "      <th>Date</th>\n",
       "      <th>Country</th>\n",
       "      <th>MonthYear</th>\n",
       "      <th>Week</th>\n",
       "      <th>TotalAmount</th>\n",
       "      <th>CountOfUniqueInvoices</th>\n",
       "    </tr>\n",
       "  </thead>\n",
       "  <tbody>\n",
       "    <tr>\n",
       "      <th>0</th>\n",
       "      <td>12346.0</td>\n",
       "      <td>2011-01-18</td>\n",
       "      <td>United Kingdom</td>\n",
       "      <td>2011-01</td>\n",
       "      <td>2011-01-17</td>\n",
       "      <td>77183.60</td>\n",
       "      <td>1</td>\n",
       "    </tr>\n",
       "    <tr>\n",
       "      <th>1</th>\n",
       "      <td>12347.0</td>\n",
       "      <td>2010-12-07</td>\n",
       "      <td>Iceland</td>\n",
       "      <td>2010-12</td>\n",
       "      <td>2010-12-06</td>\n",
       "      <td>711.79</td>\n",
       "      <td>1</td>\n",
       "    </tr>\n",
       "    <tr>\n",
       "      <th>2</th>\n",
       "      <td>12347.0</td>\n",
       "      <td>2011-01-26</td>\n",
       "      <td>Iceland</td>\n",
       "      <td>2011-01</td>\n",
       "      <td>2011-01-24</td>\n",
       "      <td>475.39</td>\n",
       "      <td>1</td>\n",
       "    </tr>\n",
       "    <tr>\n",
       "      <th>3</th>\n",
       "      <td>12347.0</td>\n",
       "      <td>2011-04-07</td>\n",
       "      <td>Iceland</td>\n",
       "      <td>2011-04</td>\n",
       "      <td>2011-04-04</td>\n",
       "      <td>636.25</td>\n",
       "      <td>1</td>\n",
       "    </tr>\n",
       "    <tr>\n",
       "      <th>4</th>\n",
       "      <td>12347.0</td>\n",
       "      <td>2011-06-09</td>\n",
       "      <td>Iceland</td>\n",
       "      <td>2011-06</td>\n",
       "      <td>2011-06-06</td>\n",
       "      <td>382.52</td>\n",
       "      <td>1</td>\n",
       "    </tr>\n",
       "  </tbody>\n",
       "</table>\n",
       "</div>"
      ],
      "text/plain": [
       "  CustomerID        Date         Country MonthYear       Week  TotalAmount  \\\n",
       "0    12346.0  2011-01-18  United Kingdom   2011-01 2011-01-17     77183.60   \n",
       "1    12347.0  2010-12-07         Iceland   2010-12 2010-12-06       711.79   \n",
       "2    12347.0  2011-01-26         Iceland   2011-01 2011-01-24       475.39   \n",
       "3    12347.0  2011-04-07         Iceland   2011-04 2011-04-04       636.25   \n",
       "4    12347.0  2011-06-09         Iceland   2011-06 2011-06-06       382.52   \n",
       "\n",
       "   CountOfUniqueInvoices  \n",
       "0                      1  \n",
       "1                      1  \n",
       "2                      1  \n",
       "3                      1  \n",
       "4                      1  "
      ]
     },
     "execution_count": 24,
     "metadata": {},
     "output_type": "execute_result"
    }
   ],
   "source": [
    "# group the data using CustomerID, Date and Country\n",
    "grouped_daily_customer_df = online_retail_data.groupby(\n",
    "    ['CustomerID', 'Date', 'Country', 'MonthYear', 'Week']).agg(\n",
    "    TotalAmount = pd.NamedAgg(column='TotalAmount', aggfunc='sum'),\n",
    "    CountOfUniqueInvoices = pd.NamedAgg(column='InvoiceNo', aggfunc='nunique')\n",
    ").reset_index()\n",
    "\n",
    "# save results in a csv file\n",
    "grouped_daily_customer_df.to_csv(\"grouped_daily_customer_data.csv\", date_format='%Y-%m-%d', index=False)\n",
    "\n",
    "# preview\n",
    "grouped_daily_customer_df.head()"
   ]
  },
  {
   "attachments": {},
   "cell_type": "markdown",
   "metadata": {},
   "source": [
    "* From the above result of groupby, we can easily check for outliers from TotalAmount column."
   ]
  },
  {
   "cell_type": "code",
   "execution_count": 31,
   "metadata": {},
   "outputs": [
    {
     "data": {
      "text/plain": [
       "<Axes: >"
      ]
     },
     "execution_count": 31,
     "metadata": {},
     "output_type": "execute_result"
    },
    {
     "data": {
      "image/png": "[encoded data removed]",
      "text/plain": [
       "<Figure size 1000x400 with 1 Axes>"
      ]
     },
     "metadata": {},
     "output_type": "display_data"
    }
   ],
   "source": [
    "fig, ax = plt.subplots(figsize = (10, 4))\n",
    "sns.boxplot(grouped_daily_customer_df['TotalAmount'])"
   ]
  },
  {
   "attachments": {},
   "cell_type": "markdown",
   "metadata": {},
   "source": [
    "#### Grouping Data 2: Group Data By Country\n",
    "* __Goals__:\n",
    "  * Calculate __Average Sales Value__ by Country."
   ]
  },
  {
   "cell_type": "code",
   "execution_count": 25,
   "metadata": {},
   "outputs": [
    {
     "data": {
      "text/html": [
       "<div>\n",
       "<style scoped>\n",
       "    .dataframe tbody tr th:only-of-type {\n",
       "        vertical-align: middle;\n",
       "    }\n",
       "\n",
       "    .dataframe tbody tr th {\n",
       "        vertical-align: top;\n",
       "    }\n",
       "\n",
       "    .dataframe thead th {\n",
       "        text-align: right;\n",
       "    }\n",
       "</style>\n",
       "<table border=\"1\" class=\"dataframe\">\n",
       "  <thead>\n",
       "    <tr style=\"text-align: right;\">\n",
       "      <th></th>\n",
       "      <th>Country</th>\n",
       "      <th>CountOfUniqueCustomers</th>\n",
       "      <th>TotalAmount</th>\n",
       "      <th>CountOfUniqueInvoices</th>\n",
       "      <th>AverageSalesValue</th>\n",
       "    </tr>\n",
       "  </thead>\n",
       "  <tbody>\n",
       "    <tr>\n",
       "      <th>0</th>\n",
       "      <td>Australia</td>\n",
       "      <td>9</td>\n",
       "      <td>138521.31</td>\n",
       "      <td>57</td>\n",
       "      <td>15391.256667</td>\n",
       "    </tr>\n",
       "    <tr>\n",
       "      <th>1</th>\n",
       "      <td>Austria</td>\n",
       "      <td>11</td>\n",
       "      <td>10198.68</td>\n",
       "      <td>17</td>\n",
       "      <td>927.152727</td>\n",
       "    </tr>\n",
       "    <tr>\n",
       "      <th>2</th>\n",
       "      <td>Bahrain</td>\n",
       "      <td>2</td>\n",
       "      <td>548.40</td>\n",
       "      <td>2</td>\n",
       "      <td>274.200000</td>\n",
       "    </tr>\n",
       "    <tr>\n",
       "      <th>3</th>\n",
       "      <td>Belgium</td>\n",
       "      <td>25</td>\n",
       "      <td>41196.34</td>\n",
       "      <td>98</td>\n",
       "      <td>1647.853600</td>\n",
       "    </tr>\n",
       "    <tr>\n",
       "      <th>4</th>\n",
       "      <td>Brazil</td>\n",
       "      <td>1</td>\n",
       "      <td>1143.60</td>\n",
       "      <td>1</td>\n",
       "      <td>1143.600000</td>\n",
       "    </tr>\n",
       "  </tbody>\n",
       "</table>\n",
       "</div>"
      ],
      "text/plain": [
       "     Country  CountOfUniqueCustomers  TotalAmount  CountOfUniqueInvoices  \\\n",
       "0  Australia                       9    138521.31                     57   \n",
       "1    Austria                      11     10198.68                     17   \n",
       "2    Bahrain                       2       548.40                      2   \n",
       "3    Belgium                      25     41196.34                     98   \n",
       "4     Brazil                       1      1143.60                      1   \n",
       "\n",
       "   AverageSalesValue  \n",
       "0       15391.256667  \n",
       "1         927.152727  \n",
       "2         274.200000  \n",
       "3        1647.853600  \n",
       "4        1143.600000  "
      ]
     },
     "execution_count": 25,
     "metadata": {},
     "output_type": "execute_result"
    }
   ],
   "source": [
    "# group the data by country and understand the summary data by Country\n",
    "grouped_country_df = online_retail_data.groupby( 'Country').agg(\n",
    "    CountOfUniqueCustomers = pd.NamedAgg(column = 'CustomerID', aggfunc = 'nunique'),\n",
    "    TotalAmount = pd.NamedAgg(column='TotalAmount', aggfunc='sum'),\n",
    "    CountOfUniqueInvoices = pd.NamedAgg(column='InvoiceNo', aggfunc='nunique')\n",
    ").reset_index()\n",
    "\n",
    "# calculate the Average Basket Value \n",
    "grouped_country_df['AverageSalesValue'] = grouped_country_df['TotalAmount'] / grouped_country_df['CountOfUniqueCustomers']\n",
    "\n",
    "# save the output in a csv file\n",
    "grouped_country_df.to_csv(\"grouped_country_data.csv\", index=False)\n",
    "\n",
    "# preview\n",
    "grouped_country_df.head()"
   ]
  },
  {
   "cell_type": "code",
   "execution_count": 37,
   "metadata": {},
   "outputs": [
    {
     "data": {
      "image/png": "[encoded data removed]",
      "text/plain": [
       "<Figure size 1800x500 with 4 Axes>"
      ]
     },
     "metadata": {},
     "output_type": "display_data"
    }
   ],
   "source": [
    "#set seaborn plotting aesthetics as default\n",
    "sns.set()\n",
    "# Define the Subplots\n",
    "fig, ax = plt.subplots(2,2, figsize = (18, 5))\n",
    "\n",
    "# Total Amount\n",
    "sns.boxplot(grouped_country_df['TotalAmount'], ax = ax[0, 0]).set(title=\"Total Sales Value\")\n",
    "# Average Sales Value\n",
    "sns.boxplot(grouped_country_df['AverageSalesValue'], ax = ax[0,1]).set(title=\"Average Sales Value\")\n",
    "# Unique Customers\n",
    "sns.boxplot(grouped_country_df['CountOfUniqueCustomers'], ax = ax[1, 0]).set(title=\"Unique Customers Invoiced\")\n",
    "# Unique Invoices\n",
    "sns.boxplot(grouped_country_df['CountOfUniqueInvoices'], ax = ax[1,1]).set(title=\"Unique Sales Invoices\")\n",
    "\n",
    "plt.tight_layout()"
   ]
  },
  {
   "attachments": {},
   "cell_type": "markdown",
   "metadata": {},
   "source": [
    "#### Bivariate Analysis\n",
    "1. Check for liner relationships between the 2 variables."
   ]
  },
  {
   "cell_type": "code",
   "execution_count": 40,
   "metadata": {},
   "outputs": [
    {
     "data": {
      "text/plain": [
       "<seaborn.axisgrid.PairGrid at 0x2559d9723e0>"
      ]
     },
     "execution_count": 40,
     "metadata": {},
     "output_type": "execute_result"
    },
    {
     "data": {
      "image/png": "[encoded data removed]",
      "text/plain": [
       "<Figure size 1200x400 with 3 Axes>"
      ]
     },
     "metadata": {},
     "output_type": "display_data"
    }
   ],
   "source": [
    "data = grouped_country_df.set_index('Country')\n",
    "\n",
    "sns.pairplot(data, \n",
    "             x_vars=['CountOfUniqueCustomers', 'CountOfUniqueInvoices', 'AverageSalesValue'],\n",
    "             y_vars=['TotalAmount'],\n",
    "             height=4,\n",
    "             aspect=1,\n",
    "             kind='scatter'\n",
    "             )"
   ]
  },
  {
   "attachments": {},
   "cell_type": "markdown",
   "metadata": {},
   "source": [
    "#### Multivariate Analysis:\n",
    "1. Check for any correlations between the four variables."
   ]
  },
  {
   "cell_type": "code",
   "execution_count": 38,
   "metadata": {},
   "outputs": [
    {
     "data": {
      "image/png": "[encoded data removed]",
      "text/plain": [
       "<Figure size 640x480 with 2 Axes>"
      ]
     },
     "metadata": {},
     "output_type": "display_data"
    }
   ],
   "source": [
    "# check fo correlations\n",
    "data = grouped_country_df.set_index('Country')\n",
    "\n",
    "sns.heatmap(data.corr(), cmap='Greens', annot=True)\n",
    "plt.show()"
   ]
  },
  {
   "attachments": {},
   "cell_type": "markdown",
   "metadata": {},
   "source": [
    "### Grouping Data 3: Group Data By Country By Day"
   ]
  },
  {
   "cell_type": "code",
   "execution_count": 27,
   "metadata": {},
   "outputs": [
    {
     "data": {
      "text/html": [
       "<div>\n",
       "<style scoped>\n",
       "    .dataframe tbody tr th:only-of-type {\n",
       "        vertical-align: middle;\n",
       "    }\n",
       "\n",
       "    .dataframe tbody tr th {\n",
       "        vertical-align: top;\n",
       "    }\n",
       "\n",
       "    .dataframe thead th {\n",
       "        text-align: right;\n",
       "    }\n",
       "</style>\n",
       "<table border=\"1\" class=\"dataframe\">\n",
       "  <thead>\n",
       "    <tr style=\"text-align: right;\">\n",
       "      <th></th>\n",
       "      <th>Date</th>\n",
       "      <th>Week</th>\n",
       "      <th>Country</th>\n",
       "      <th>MonthYear</th>\n",
       "      <th>TotalAmount</th>\n",
       "      <th>CountOfUniqueInvoices</th>\n",
       "      <th>CountOfUniqueCustomers</th>\n",
       "    </tr>\n",
       "  </thead>\n",
       "  <tbody>\n",
       "    <tr>\n",
       "      <th>0</th>\n",
       "      <td>2010-12-01</td>\n",
       "      <td>2010-11-29</td>\n",
       "      <td>Australia</td>\n",
       "      <td>2010-12</td>\n",
       "      <td>358.25</td>\n",
       "      <td>1</td>\n",
       "      <td>1</td>\n",
       "    </tr>\n",
       "    <tr>\n",
       "      <th>1</th>\n",
       "      <td>2010-12-01</td>\n",
       "      <td>2010-11-29</td>\n",
       "      <td>EIRE</td>\n",
       "      <td>2010-12</td>\n",
       "      <td>555.38</td>\n",
       "      <td>2</td>\n",
       "      <td>1</td>\n",
       "    </tr>\n",
       "    <tr>\n",
       "      <th>2</th>\n",
       "      <td>2010-12-01</td>\n",
       "      <td>2010-11-29</td>\n",
       "      <td>France</td>\n",
       "      <td>2010-12</td>\n",
       "      <td>855.86</td>\n",
       "      <td>1</td>\n",
       "      <td>1</td>\n",
       "    </tr>\n",
       "    <tr>\n",
       "      <th>3</th>\n",
       "      <td>2010-12-01</td>\n",
       "      <td>2010-11-29</td>\n",
       "      <td>Germany</td>\n",
       "      <td>2010-12</td>\n",
       "      <td>261.48</td>\n",
       "      <td>1</td>\n",
       "      <td>1</td>\n",
       "    </tr>\n",
       "    <tr>\n",
       "      <th>4</th>\n",
       "      <td>2010-12-01</td>\n",
       "      <td>2010-11-29</td>\n",
       "      <td>Netherlands</td>\n",
       "      <td>2010-12</td>\n",
       "      <td>192.60</td>\n",
       "      <td>1</td>\n",
       "      <td>1</td>\n",
       "    </tr>\n",
       "  </tbody>\n",
       "</table>\n",
       "</div>"
      ],
      "text/plain": [
       "         Date       Week      Country MonthYear  TotalAmount  \\\n",
       "0  2010-12-01 2010-11-29    Australia   2010-12       358.25   \n",
       "1  2010-12-01 2010-11-29         EIRE   2010-12       555.38   \n",
       "2  2010-12-01 2010-11-29       France   2010-12       855.86   \n",
       "3  2010-12-01 2010-11-29      Germany   2010-12       261.48   \n",
       "4  2010-12-01 2010-11-29  Netherlands   2010-12       192.60   \n",
       "\n",
       "   CountOfUniqueInvoices  CountOfUniqueCustomers  \n",
       "0                      1                       1  \n",
       "1                      2                       1  \n",
       "2                      1                       1  \n",
       "3                      1                       1  \n",
       "4                      1                       1  "
      ]
     },
     "execution_count": 27,
     "metadata": {},
     "output_type": "execute_result"
    }
   ],
   "source": [
    "# group the data By Country, By Date\n",
    "grouped_daily_country_df = online_retail_data.groupby(\n",
    "    ['Date','Week', 'Country', 'MonthYear']).agg(\n",
    "    TotalAmount = pd.NamedAgg(column='TotalAmount', aggfunc='sum'),\n",
    "    CountOfUniqueInvoices = pd.NamedAgg(column='InvoiceNo', aggfunc='nunique'),\n",
    "    CountOfUniqueCustomers = pd.NamedAgg(column='CustomerID', aggfunc='nunique')\n",
    ").reset_index()\n",
    "\n",
    "# save results in a csv file\n",
    "grouped_daily_country_df.to_csv(\"grouped_daily_country_df.csv\", date_format='%Y-%m-%d', index=False)\n",
    "\n",
    "# preview\n",
    "grouped_daily_country_df.head()"
   ]
  }
 ],
 "metadata": {
  "kernelspec": {
   "display_name": "venv",
   "language": "python",
   "name": "python3"
  },
  "language_info": {
   "codemirror_mode": {
    "name": "ipython",
    "version": 3
   },
   "file_extension": ".py",
   "mimetype": "text/x-python",
   "name": "python",
   "nbconvert_exporter": "python",
   "pygments_lexer": "ipython3",
   "version": "3.10.10"
  },
  "orig_nbformat": 4
 },
 "nbformat": 4,
 "nbformat_minor": 2
}

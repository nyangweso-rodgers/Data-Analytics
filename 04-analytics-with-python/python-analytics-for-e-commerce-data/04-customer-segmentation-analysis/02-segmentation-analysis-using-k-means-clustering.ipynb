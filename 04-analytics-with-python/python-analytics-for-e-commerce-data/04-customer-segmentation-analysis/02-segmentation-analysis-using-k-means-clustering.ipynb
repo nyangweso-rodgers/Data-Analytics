{
 "cells": [
  {
   "cell_type": "markdown",
   "metadata": {},
   "source": [
    "# Customer Segmentation Using K-Means Clustering"
   ]
  },
  {
   "cell_type": "markdown",
   "metadata": {},
   "source": []
  }
 ],
 "metadata": {
  "language_info": {
   "name": "python"
  }
 },
 "nbformat": 4,
 "nbformat_minor": 2
}
